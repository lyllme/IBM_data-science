{
 "cells": [
  {
   "cell_type": "markdown",
   "metadata": {},
   "source": [
    "# Applied Data Science Capstone\n",
    "## IBM data science @ coursera"
   ]
  },
  {
   "cell_type": "markdown",
   "metadata": {},
   "source": [
    "# 位置情報APIを利用する際に確認すべきこと\n",
    "1. 利用制限\n",
    "1分間に何回利用できるかなど\n",
    "1. コスト\n",
    "1. カバー地域\n",
    "1. 精度\n",
    "1. 更新頻度"
   ]
  },
  {
   "cell_type": "markdown",
   "metadata": {},
   "source": [
    "# Introduction to Foursquare\n",
    "\n",
    "## URIとは\n",
    "インターネット上の情報資源の場所や名前を示すもの。インターネットの技術を標準化する組織であるIETFがRFC 3986として規定している  \n",
    "\n",
    "├── URI (Universal Resource Identifier)  \n",
    "│   ├── URL (Universal Resource Location) 場所を示す、変更されることも  \n",
    "│   └── URN (Universal Resource Name)　名前を示す、永続的に使用されることを前提に定義される  \n",
    "\n",
    "- URLとURIの関係をwhatとwhereに例えるサイトもある\n",
    "\n",
    "### URLの構造\n",
    "http://e-words.jp/w/URI.html\n",
    "\n",
    "1. スキーム名\n",
    "http:\n",
    "1. ホスト名\n",
    "//e-words.jp\n",
    "1.ディレクトリ名\n",
    "/w\n",
    "1. ファイル名\n",
    "/URI.html\n",
    "\n",
    "### URNの構造\n",
    "- 「urn:」で始まり名前空間識別子、名前空間固有文字列と続けて表記される\n",
    "\n",
    "## APIコールとは\n",
    "- API コールとは、クライアントアプリケーションがタスク実行のために実行時に起動できる特定の操作のことです。コールには次のようなものがあります。\n",
    "組織内のデータのクエリ\n",
    "    -データの追加、更新、削除\n",
    "    - データのメタデータの取得\n",
    "    - 管理タスク実行のためのユーティリティの起動\n",
    "    \n",
    "        [参考][1]\n",
    "\n",
    "[1]:https://developer.salesforce.com/docs/atlas.ja-jp.api.meta/api/calls.htm"
   ]
  },
  {
   "cell_type": "markdown",
   "metadata": {},
   "source": [
    "--end of this notebook--"
   ]
  }
 ],
 "metadata": {
  "kernelspec": {
   "display_name": "Python 3",
   "language": "python",
   "name": "python3"
  },
  "language_info": {
   "codemirror_mode": {
    "name": "ipython",
    "version": 3
   },
   "file_extension": ".py",
   "mimetype": "text/x-python",
   "name": "python",
   "nbconvert_exporter": "python",
   "pygments_lexer": "ipython3",
   "version": "3.7.4"
  },
  "nbTranslate": {
   "displayLangs": [
    "*"
   ],
   "hotkey": "alt-t",
   "langInMainMenu": true,
   "sourceLang": "en",
   "targetLang": "fr",
   "useGoogleTranslate": true
  },
  "toc": {
   "base_numbering": 1,
   "nav_menu": {},
   "number_sections": true,
   "sideBar": true,
   "skip_h1_title": false,
   "title_cell": "Table of Contents",
   "title_sidebar": "Contents",
   "toc_cell": false,
   "toc_position": {},
   "toc_section_display": true,
   "toc_window_display": true
  }
 },
 "nbformat": 4,
 "nbformat_minor": 2
}
