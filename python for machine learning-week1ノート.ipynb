{
 "cells": [
  {
   "cell_type": "markdown",
   "metadata": {},
   "source": [
    "# Python for machine learning\n",
    "## IBM data science\n",
    "### coursera"
   ]
  },
  {
   "cell_type": "markdown",
   "metadata": {},
   "source": [
    "## week1まとめ"
   ]
  },
  {
   "cell_type": "markdown",
   "metadata": {},
   "source": [
    "## 活用事例"
   ]
  },
  {
   "cell_type": "markdown",
   "metadata": {},
   "source": [
    "1. 回帰・推定(regression/estimation)\n",
    "データの連続的な値を予測\n",
    "1. 分類(classification)\n",
    "特定の数値のクラス・カテゴリを予測する\n",
    "1. クラスタリング(clustering)\n",
    "データ構造を見つける\n",
    "1. アソシエーション分析(associations)\n",
    "同時に起こる出来事などを分析\n",
    "1. 異常検出(anomaly detection)\n",
    "1. シーケンスマイニング(sequence mining)\n",
    "次のイベントを予測する\n",
    "主な対象の一つはクリックストリーム（サイト閲覧者の訪問履歴・ページ遷移の流れ）\n",
    "マルコフモデル・HMM(隠れマルコフモデル)などの手法を用いる\n",
    "1. 次元削減(dimension reduction)\n",
    "データの圧縮と可視化を目的としてデータの変数を削る\n",
    "PCA（primary component analysis, 主成分分析）などの際利用\n",
    "1. レコメンドシステム(recommendation systems)"
   ]
  },
  {
   "cell_type": "markdown",
   "metadata": {},
   "source": [
    "## 主要用語の区別"
   ]
  },
  {
   "cell_type": "markdown",
   "metadata": {},
   "source": [
    "- AI: 広い\n",
    "    - コンピュータービジョン\n",
    "    - 言語処理\n",
    "    - クリエイティビティ\n",
    "- 機械学習:先のアルゴリズムなどを意味する\n",
    "    - 分類\n",
    "    - クラスタリング\n",
    "    - ニューラルネットワーク\n",
    "- 機械学習の進化\n",
    "    - ディープラーニング"
   ]
  }
 ],
 "metadata": {
  "kernelspec": {
   "display_name": "Python 3",
   "language": "python",
   "name": "python3"
  },
  "language_info": {
   "codemirror_mode": {
    "name": "ipython",
    "version": 3
   },
   "file_extension": ".py",
   "mimetype": "text/x-python",
   "name": "python",
   "nbconvert_exporter": "python",
   "pygments_lexer": "ipython3",
   "version": "3.7.4"
  }
 },
 "nbformat": 4,
 "nbformat_minor": 2
}
