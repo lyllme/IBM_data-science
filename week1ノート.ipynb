{
 "cells": [
  {
   "cell_type": "markdown",
   "metadata": {},
   "source": [
    "# Applied Data Science Capstone\n",
    "## IBM data science @ coursera"
   ]
  },
  {
   "cell_type": "markdown",
   "metadata": {},
   "source": [
    "## week#まとめ・目次\n",
    "1. 位置情報APIを利用する際に確認すべきこと"
   ]
  },
  {
   "cell_type": "markdown",
   "metadata": {},
   "source": [
    "# 位置情報APIを利用する際に確認すべきこと\n",
    "1. 利用制限\n",
    "1分間に何回利用できるかなど\n",
    "1. コスト\n",
    "1. カバー地域\n",
    "1. 精度\n",
    "1. 更新頻度"
   ]
  },
  {
   "cell_type": "markdown",
   "metadata": {},
   "source": [
    "--end of this notebook--"
   ]
  }
 ],
 "metadata": {
  "kernelspec": {
   "display_name": "Python 3",
   "language": "python",
   "name": "python3"
  },
  "language_info": {
   "codemirror_mode": {
    "name": "ipython",
    "version": 3
   },
   "file_extension": ".py",
   "mimetype": "text/x-python",
   "name": "python",
   "nbconvert_exporter": "python",
   "pygments_lexer": "ipython3",
   "version": "3.7.4"
  }
 },
 "nbformat": 4,
 "nbformat_minor": 2
}
