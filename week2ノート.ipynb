{
 "cells": [
  {
   "cell_type": "markdown",
   "metadata": {},
   "source": [
    "# Python for machine learning\n",
    "## IBM data science @ coursera"
   ]
  },
  {
   "cell_type": "markdown",
   "metadata": {},
   "source": [
    "## week2まとめ・目次\n",
    "1. 単回帰\n",
    "1. 多重回帰\n",
    "1. モデル評価\n",
    "1. 非線形回帰"
   ]
  },
  {
   "cell_type": "markdown",
   "metadata": {},
   "source": [
    "# 単回帰\n",
    "### 回帰アルゴリズム\n",
    "1. OLS/ordinary regression\n",
    "1. ポアソン回帰/poisson regression\n",
    "1. 高速フォレスト分位回帰/fast forest quantile regression\n",
    "1. 線形、多項式、なげなわ、ステップワイズ、リッジ回帰/linear, polynomial, lasso, stepwise, ridge regression\n",
    "1. ベイズ線形回帰/bayesian linear regression\n",
    "1. ニューラルネットワーク回帰/neural network regression\n",
    "1. 決定フォレスト回帰/decision forest regression\n",
    "1. 決定木回帰の促進/boosted decision tree regression\n",
    "1. k最近傍（KNN）/k-nearest neighbors(KNN)\n",
    "\n",
    "# 多重回帰\n",
    "### 名称\n",
    "y hat: response variable\n",
    "### 計算方法\n",
    "<img src=\"calculation.JPG\">\n",
    "\n",
    "### メリット\n",
    "1. パラメータのチューニング不要\n",
    "1. 早い\n",
    "1. 単純"
   ]
  },
  {
   "cell_type": "markdown",
   "metadata": {},
   "source": [
    "# モデル評価\n",
    "モデルとトレーニングデータセットを分けるか否か\n",
    "## Trainning accuracy/Out-of-Sample Accuracy\n",
    "高いと過学習の恐れ\n",
    "## k-分割交差検証/k-fold cross validation\n",
    "予測モデルの汎化性能を正確に検証するための方法\n",
    "<img src=\"k-cross.JPG\">\n",
    "## 誤差の計算\n",
    "<img src=\"RAE.JPG\">"
   ]
  },
  {
   "cell_type": "markdown",
   "metadata": {},
   "source": [
    "# 多重回帰\n",
    "## 数式の表し方\n",
    "X:変数とθ:係数は配列\n",
    "<img src=\"multipleregression.JPG\">"
   ]
  },
  {
   "cell_type": "markdown",
   "metadata": {},
   "source": [
    "# 非線形回帰\n",
    "<img src=\"polynomialregression.JPG\">\n",
    "\n",
    "## どのように線形・非線形回帰を判別するか\n",
    "1. 目視で判別\n",
    "説明・被説明変数をプロットする    \n",
    "独立変数と従属変数の間の相関係数を計算し、0.7以上の場合、線形傾向があるため、非線形回帰を当てはめることは適切ではない  \n",
    "1. 正確度で判別  \n",
    "線形モデルで表せないときに非線形モデルを利用する\n",
    "\n",
    "## どのように非線形モデルを散布図にするか\n",
    "\n",
    "1. 多項式回帰\n",
    "1. 非線形回帰モデル\n",
    "1. データを変える\n",
    "\n",
    "この章の対象外"
   ]
  },
  {
   "cell_type": "markdown",
   "metadata": {},
   "source": [
    "--end of this notebook--"
   ]
  }
 ],
 "metadata": {
  "kernelspec": {
   "display_name": "Python 3",
   "language": "python",
   "name": "python3"
  },
  "language_info": {
   "codemirror_mode": {
    "name": "ipython",
    "version": 3
   },
   "file_extension": ".py",
   "mimetype": "text/x-python",
   "name": "python",
   "nbconvert_exporter": "python",
   "pygments_lexer": "ipython3",
   "version": "3.7.4"
  }
 },
 "nbformat": 4,
 "nbformat_minor": 2
}
